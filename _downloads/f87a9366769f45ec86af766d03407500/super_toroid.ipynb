{
  "cells": [
    {
      "cell_type": "code",
      "execution_count": null,
      "metadata": {
        "collapsed": false
      },
      "outputs": [],
      "source": [
        "%matplotlib inline"
      ]
    },
    {
      "cell_type": "markdown",
      "metadata": {},
      "source": [
        "\nSuper Toroid\n~~~~~~~~~~~~\n\nTetrahedralize a super toroid surface\n\n"
      ]
    },
    {
      "cell_type": "code",
      "execution_count": null,
      "metadata": {
        "collapsed": false
      },
      "outputs": [],
      "source": [
        "# sphinx_gallery_thumbnail_number = 2\nimport pyvista as pv\nimport tetgen\nimport numpy as np"
      ]
    },
    {
      "cell_type": "code",
      "execution_count": null,
      "metadata": {
        "collapsed": false
      },
      "outputs": [],
      "source": [
        "toroid = pv.SuperToroid()\ntet = tetgen.TetGen(toroid)\ntet.tetrahedralize(order=1, mindihedral=20, minratio=1.5)\ngrid = tet.grid\ngrid.plot()"
      ]
    },
    {
      "cell_type": "code",
      "execution_count": null,
      "metadata": {
        "collapsed": false
      },
      "outputs": [],
      "source": [
        "# get cell centroids\ncells = grid.cells.reshape(-1, 5)[:, 1:]\ncell_center = grid.points[cells].mean(1)\n\n# extract cells below the 0 xy plane\nmask = cell_center[:, 2] < 0\ncell_ind = mask.nonzero()[0]\nsubgrid = grid.extract_cells(cell_ind)\n\n# advanced plotting\nplotter = pv.Plotter()\nplotter.add_mesh(subgrid, 'lightgrey', lighting=True)\nplotter.add_mesh(toroid, 'r', 'wireframe')\nplotter.add_legend([[' Input Mesh ', 'r'],\n                    [' Tesselated Mesh ', 'black']])\nplotter.plot()"
      ]
    },
    {
      "cell_type": "code",
      "execution_count": null,
      "metadata": {
        "collapsed": false
      },
      "outputs": [],
      "source": [
        "try:\n    cell_qual = subgrid.quality\n\n    # plot quality\n    subgrid.plot(scalars=cell_qual, stitle='quality', cmap='bwr', flip_scalars=True)\nexcept:\n    pass"
      ]
    }
  ],
  "metadata": {
    "kernelspec": {
      "display_name": "Python 3",
      "language": "python",
      "name": "python3"
    },
    "language_info": {
      "codemirror_mode": {
        "name": "ipython",
        "version": 3
      },
      "file_extension": ".py",
      "mimetype": "text/x-python",
      "name": "python",
      "nbconvert_exporter": "python",
      "pygments_lexer": "ipython3",
      "version": "3.6.7"
    }
  },
  "nbformat": 4,
  "nbformat_minor": 0
}