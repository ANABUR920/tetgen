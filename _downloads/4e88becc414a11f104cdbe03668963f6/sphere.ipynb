{
  "cells": [
    {
      "cell_type": "code",
      "execution_count": null,
      "metadata": {
        "collapsed": false
      },
      "outputs": [],
      "source": [
        "%matplotlib inline"
      ]
    },
    {
      "cell_type": "markdown",
      "metadata": {},
      "source": [
        "\nSphere\n~~~~~~\n\nTetrahedralize a sphere\n\n"
      ]
    },
    {
      "cell_type": "code",
      "execution_count": null,
      "metadata": {
        "collapsed": false
      },
      "outputs": [],
      "source": [
        "# sphinx_gallery_thumbnail_number = 2\nimport pyvista as pv\nimport tetgen\nimport numpy as np"
      ]
    },
    {
      "cell_type": "code",
      "execution_count": null,
      "metadata": {
        "collapsed": false
      },
      "outputs": [],
      "source": [
        "sphere = pv.Sphere()\ntet = tetgen.TetGen(sphere)\ntet.tetrahedralize(order=1, mindihedral=20, minratio=1.5)\ngrid = tet.grid\ngrid.plot(show_edges=True)"
      ]
    },
    {
      "cell_type": "code",
      "execution_count": null,
      "metadata": {
        "collapsed": false
      },
      "outputs": [],
      "source": [
        "# get cell centroids\ncells = grid.cells.reshape(-1, 5)[:, 1:]\ncell_center = grid.points[cells].mean(1)\n\n# extract cells below the 0 xy plane\nmask = cell_center[:, 2] < 0\ncell_ind = mask.nonzero()[0]\nsubgrid = grid.extract_cells(cell_ind)\n\n# advanced plotting\nplotter = pv.Plotter()\nplotter.add_mesh(subgrid, 'lightgrey', lighting=True, show_edges=True)\nplotter.add_mesh(sphere, 'r', 'wireframe')\nplotter.add_legend([[' Input Mesh ', 'r'],\n                    [' Tesselated Mesh ', 'black']])\nplotter.show()"
      ]
    },
    {
      "cell_type": "code",
      "execution_count": null,
      "metadata": {
        "collapsed": false
      },
      "outputs": [],
      "source": [
        "cell_qual = subgrid.quality\n\n# plot quality\nsubgrid.plot(scalars=cell_qual, stitle='Quality', cmap='bwr', clim=[0,1],\n             flip_scalars=True, show_edges=True,)"
      ]
    }
  ],
  "metadata": {
    "kernelspec": {
      "display_name": "Python 3",
      "language": "python",
      "name": "python3"
    },
    "language_info": {
      "codemirror_mode": {
        "name": "ipython",
        "version": 3
      },
      "file_extension": ".py",
      "mimetype": "text/x-python",
      "name": "python",
      "nbconvert_exporter": "python",
      "pygments_lexer": "ipython3",
      "version": "3.6.7"
    }
  },
  "nbformat": 4,
  "nbformat_minor": 0
}