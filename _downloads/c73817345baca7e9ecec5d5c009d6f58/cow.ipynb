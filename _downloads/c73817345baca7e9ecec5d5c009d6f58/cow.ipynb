{
  "cells": [
    {
      "cell_type": "code",
      "execution_count": null,
      "metadata": {
        "collapsed": false
      },
      "outputs": [],
      "source": [
        "%matplotlib inline"
      ]
    },
    {
      "cell_type": "markdown",
      "metadata": {},
      "source": [
        "\nCow\n~~~\n\nTetrahedralize a cow mesh\n\n"
      ]
    },
    {
      "cell_type": "code",
      "execution_count": null,
      "metadata": {
        "collapsed": false
      },
      "outputs": [],
      "source": [
        "# sphinx_gallery_thumbnail_number = 3\nimport numpy as np\nimport pyvista as pv\nfrom pyvista import examples\nimport tetgen\nimport pymeshfix"
      ]
    },
    {
      "cell_type": "code",
      "execution_count": null,
      "metadata": {
        "collapsed": false
      },
      "outputs": [],
      "source": [
        "cow_mesh = examples.download_cow().tri_filter()\n\ncpos = [(13., 7.6, -13.85),\n (0.44, -0.4, -0.37),\n (-0.28, 0.9, 0.3)]\n\ncow_mesh.plot(cpos=cpos)"
      ]
    },
    {
      "cell_type": "code",
      "execution_count": null,
      "metadata": {
        "collapsed": false
      },
      "outputs": [],
      "source": [
        "tet = tetgen.TetGen(cow_mesh)\ntet.make_manifold()\ntet.tetrahedralize()\n\ncow_grid = tet.grid"
      ]
    },
    {
      "cell_type": "code",
      "execution_count": null,
      "metadata": {
        "collapsed": false
      },
      "outputs": [],
      "source": [
        "# plot half the cow\nmask = np.logical_or(cow_grid.points[:, 0] < 0, cow_grid.points[:, 0] > 4)\nhalf_cow = cow_grid.extract_selection_points(mask)"
      ]
    },
    {
      "cell_type": "code",
      "execution_count": null,
      "metadata": {
        "collapsed": false
      },
      "outputs": [],
      "source": [
        "plotter = pv.Plotter()\nplotter.add_mesh(half_cow, color='w', show_edges=True)\nplotter.add_mesh(cow_grid, color='r', style='wireframe', opacity=0.2)\nplotter.camera_position = cpos\nplotter.show()"
      ]
    },
    {
      "cell_type": "markdown",
      "metadata": {},
      "source": [
        "Construct silly spinning cow animation\n\n"
      ]
    },
    {
      "cell_type": "code",
      "execution_count": null,
      "metadata": {
        "collapsed": false
      },
      "outputs": [],
      "source": [
        "plotter = pv.Plotter(off_screen=True, window_size=[400, 400])\nplotter.open_gif('cow.gif')\nplotter.add_mesh(half_cow, color='w', show_edges=True)\nplotter.add_mesh(cow_grid, color='r', style='wireframe', opacity=0.2)\nplotter.camera_position = cpos\nplotter.write_frame()\nnframe = 36\ndeg = 360./(nframe + 1)\nfor i in range(nframe):\n    half_cow.rotate_y(deg)\n    cow_grid.rotate_y(deg)\n    plotter.update()\n    plotter.write_frame()\nplotter.close()"
      ]
    }
  ],
  "metadata": {
    "kernelspec": {
      "display_name": "Python 3",
      "language": "python",
      "name": "python3"
    },
    "language_info": {
      "codemirror_mode": {
        "name": "ipython",
        "version": 3
      },
      "file_extension": ".py",
      "mimetype": "text/x-python",
      "name": "python",
      "nbconvert_exporter": "python",
      "pygments_lexer": "ipython3",
      "version": "3.6.7"
    }
  },
  "nbformat": 4,
  "nbformat_minor": 0
}